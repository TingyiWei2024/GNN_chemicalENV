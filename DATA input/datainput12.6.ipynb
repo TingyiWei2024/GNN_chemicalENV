{
  "name": "John",
  "age": 30,
  "is_student": false,
  "courses": ["Math", "Science", "English"],
  "address": {
    "street": "123 Main St",
    "city": "New York"
  }
}

