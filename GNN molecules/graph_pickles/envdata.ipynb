{
 "cells": [
  {
   "cell_type": "code",
   "execution_count": 1,
   "metadata": {},
   "outputs": [],
   "source": [
    "##  Load Environmental Data from Excel\n",
    "import pandas as pd\n",
    "\n",
    "# Load the environmental data\n",
    "df = pd.read_excel(r\"C:\\Users\\80710\\OneDrive - Imperial College London\\2025 engineering\\GNN molecules\\graph_pickles\\dataset02.xlsx\", engine='openpyxl')\n",
    "\n"
   ]
  },
  {
   "cell_type": "code",
   "execution_count": 2,
   "metadata": {},
   "outputs": [
    {
     "name": "stdout",
     "output_type": "stream",
     "text": [
      "Temperature: 35.6 86.0\n",
      "Seawater: sea art\n",
      "Time: 30 60\n",
      "Concentration: 70 700\n"
     ]
    }
   ],
   "source": [
    "# List the columns about the env variable\n",
    "columns_of_interest = [\"temperature\", \"seawater\", \"time\", \"concentration\"]\n",
    "\n",
    "# For each column, find and print the unique values.\n",
    "for col in columns_of_interest:\n",
    "    # Get unique values for the column, dropping any potential NaN values.\n",
    "    unique_vals = df[col].dropna().unique()\n",
    "    # Join the unique values into a single string for display.\n",
    "    # (Convert each value to a string in case some are numeric.)\n",
    "    unique_str = \" \".join(map(str, unique_vals))\n",
    "    print(f\"{col.capitalize()}: {unique_str}\")\n"
   ]
  }
 ],
 "metadata": {
  "kernelspec": {
   "display_name": "alfabet-env",
   "language": "python",
   "name": "python3"
  },
  "language_info": {
   "codemirror_mode": {
    "name": "ipython",
    "version": 3
   },
   "file_extension": ".py",
   "mimetype": "text/x-python",
   "name": "python",
   "nbconvert_exporter": "python",
   "pygments_lexer": "ipython3",
   "version": "3.9.20"
  }
 },
 "nbformat": 4,
 "nbformat_minor": 2
}
